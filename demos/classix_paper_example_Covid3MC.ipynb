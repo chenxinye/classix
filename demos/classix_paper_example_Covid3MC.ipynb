{
 "cells": [
  {
   "cell_type": "markdown",
   "id": "568969b4-1473-4154-9592-dfcca8065b36",
   "metadata": {},
   "source": [
    "We need to compare k-means, hdbscan, quickshift, and classix"
   ]
  },
  {
   "cell_type": "markdown",
   "id": "88258498-e5ed-4f53-8c53-bb127a1c01d2",
   "metadata": {},
   "source": [
    "## Covid3MC"
   ]
  },
  {
   "cell_type": "code",
   "execution_count": 1,
   "id": "42676430-c30c-47a8-ad36-e78916dad476",
   "metadata": {},
   "outputs": [],
   "source": [
    "import hdbscan\n",
    "from sklearn.cluster import KMeans\n",
    "from quickshift.QuickshiftPP import *\n",
    "from threadpoolctl import threadpool_limits"
   ]
  },
  {
   "cell_type": "code",
   "execution_count": 2,
   "id": "c1f773d3-43e6-4388-9a04-eca87cb0bd93",
   "metadata": {},
   "outputs": [
    {
     "name": "stdout",
     "output_type": "stream",
     "text": [
      "1.0.4\n"
     ]
    }
   ],
   "source": [
    "from sklearn.datasets import make_blobs\n",
    "import matplotlib.pyplot as plt\n",
    "from classix import CLASSIX, loadData\n",
    "import classix\n",
    "from time import time\n",
    "import cv2\n",
    "import os\n",
    "\n",
    "\n",
    "import pandas as pd\n",
    "import numpy as np\n",
    "\n",
    "print(classix.__version__)\n",
    "\n",
    "from HiPart.clustering import DePDDP\n",
    "from sklearn.metrics import adjusted_rand_score as ari\n",
    "from sklearn.metrics import adjusted_mutual_info_score as ami\n",
    "\n",
    "import collections\n"
   ]
  },
  {
   "cell_type": "code",
   "execution_count": 3,
   "id": "1fbc08be-616e-4b89-a2d0-8402016fce31",
   "metadata": {},
   "outputs": [
    {
     "name": "stdout",
     "output_type": "stream",
     "text": [
      "CLASSIX uses time: 7.160452127456665\n",
      "ARI: 0.4741036143658034\n",
      "AMI: 0.6052167731189498\n",
      "HDBSCAN uses time: 3555.6782252788544\n",
      "ARI: 0.532079542975906\n",
      "AMI: 0.6253091889326251\n",
      "Quickshift uses time: 6820.330424785614\n",
      "ARI: 0.3112198007130295\n",
      "AMI: 0.5600965224541009\n"
     ]
    },
    {
     "name": "stderr",
     "output_type": "stream",
     "text": [
      "/usr/lib/python3/dist-packages/sklearn/cluster/_kmeans.py:870: FutureWarning: The default value of `n_init` will change from 10 to 'auto' in 1.4. Set the value of `n_init` explicitly to suppress the warning\n",
      "  warnings.warn(\n"
     ]
    },
    {
     "name": "stdout",
     "output_type": "stream",
     "text": [
      "kmeans uses time: 131.05783867835999\n",
      "ARI: 0.14420714220522918\n",
      "AMI: 0.47458391329076954\n"
     ]
    }
   ],
   "source": [
    "Covid3MC = loadData('Covid3MC')\n",
    "X, y = Covid3MC\n",
    "np.random.seed(42)\n",
    "sampling = np.random.choice(np.arange(X.shape[0]), int(X.shape[0]*0.1), replace=False)\n",
    "X, y = np.array(X), np.array(y)\n",
    "X_sample, y_sample = X[sampling], y[sampling] # for Quickshift++\n",
    "clusterNum = len(np.unique(y))\n",
    "\n",
    "lari = list()\n",
    "lami = list()\n",
    "runtime = list()\n",
    "min_cluster = min(collections.Counter(y).items(), key=lambda x: x[1])[1]\n",
    "\n",
    "with threadpool_limits(limits=1, user_api='blas'):\n",
    "    clx = classix.CLASSIX(radius=0.2, minPts=500, verbose=0);\n",
    "    st = time()\n",
    "    clx.fit(X)\n",
    "    et = time()\n",
    "    print(\"CLASSIX uses time:\", et - st)\n",
    "    print(\"ARI:\", ari(clx.labels_, y))\n",
    "    print(\"AMI:\", ami(clx.labels_, y))\n",
    "    lari.append(ari(clx.labels_, y))\n",
    "    lami.append(ami(clx.labels_, y))\n",
    "    runtime.append(et - st)\n",
    "\n",
    "    _hdbscan = hdbscan.HDBSCAN(min_cluster_size=180000, min_samples=5) \n",
    "    st = time()\n",
    "    _hdbscan.fit(X)\n",
    "    et = time()\n",
    "    print(\"HDBSCAN uses time:\", et - st)\n",
    "    print(\"ARI:\", ari(_hdbscan.labels_, y))\n",
    "    print(\"AMI:\", ami(_hdbscan.labels_, y))\n",
    "    lari.append(ari(_hdbscan.labels_, y))\n",
    "    lami.append(ami(_hdbscan.labels_, y))\n",
    "    runtime.append(et - st)\n",
    "\n",
    "    quicks = QuickshiftPP(k=3500, beta=0.9)\n",
    "    st = time()\n",
    "    quicks.fit(X_sample.copy(order='C'))\n",
    "    et = time()\n",
    "    print(\"Quickshift uses time:\", et - st)\n",
    "    print(\"ARI:\", ari(quicks.memberships, y_sample))\n",
    "    print(\"AMI:\", ami(quicks.memberships, y_sample))\n",
    "    lari.append(ari(quicks.memberships, y_sample))\n",
    "    lami.append(ami(quicks.memberships, y_sample))\n",
    "    runtime.append(et - st)\n",
    "\n",
    "\n",
    "    kmeans = KMeans(n_clusters=clusterNum, init='k-means++', random_state=1)\n",
    "    st = time()\n",
    "    kmeans.fit(X)\n",
    "    et = time()\n",
    "    print(\"kmeans uses time:\", et - st)\n",
    "    print(\"ARI:\", ari(kmeans.labels_, y))\n",
    "    print(\"AMI:\", ami(kmeans.labels_, y))\n",
    "    lari.append(ari(kmeans.labels_, y))\n",
    "    lami.append(ami(kmeans.labels_, y))\n",
    "    runtime.append(et - st)\n",
    "\n",
    "\n",
    "    # depddp_class = DePDDP(max_clusters_number=clusterNum).fit_predict(X)\n",
    "    # print(\"DePDDP uses time:\", et - st)\n",
    "    # print(\"ARI:\", ari(depddp_class, y))\n",
    "    # print(\"AMI:\", ami(depddp_class, y))\n",
    "    # lari.append(ari(depddp_class, y))\n",
    "    # lami.append(ami(depddp_class, y))\n",
    "    # runtime.append(et - st)\n",
    "\n",
    "\n",
    "labels_ = [clx.labels_, _hdbscan.labels_, kmeans.labels_]# , depddp_class]\n",
    "lari = np.asarray(lari)\n",
    "lami = np.asarray(lami)\n",
    "runtime = np.asarray(runtime)\n",
    "np.save(\"result/exp1/Covid3MC_ari.npy\", lari)\n",
    "np.save(\"result/exp1/Covid3MC_ami.npy\", lami)\n",
    "np.save(\"result/exp1/Covid3MC_runtime.npy\", runtime)\n",
    "np.save(\"result/exp1/Covid3MC_labels.npy\", labels_)\n",
    "np.save(\"result/exp1/Covid3MC_quicks_labels.npy\", quicks.memberships)"
   ]
  },
  {
   "cell_type": "code",
   "execution_count": null,
   "id": "75b235cd-ec1c-4370-b7ef-827bcabd9170",
   "metadata": {},
   "outputs": [],
   "source": []
  },
  {
   "cell_type": "raw",
   "id": "cbe4f6a8-27e3-4d4a-ac4b-d2a4263bfc04",
   "metadata": {},
   "source": [
    "import math\n",
    "from sklearn.decomposition import PCA\n",
    "import matplotlib.pyplot as plt\n",
    "\n",
    "def sigificant_digit(number, digits=4):\n",
    "    return round(number, digits - int(math.floor(math.log10(abs(number)))) - 1)\n",
    "algorithms = ['CLASSIX', 'HDBSCAN', 'Quickshift++', 'k-means++']\n",
    "\n",
    "lari = np.load(\"result/exp1/Covid3MC_ari.npy\")\n",
    "lami = np.load(\"result/exp1/Covid3MC_ami.npy\")\n",
    "labels = np.load(\"result/exp1/Covid3MC_labels.npy\")\n",
    "runtime = np.load(\"result/exp1/Covid3MC_runtime.npy\")\n",
    "labels_quicks = np.load(\"result/exp1/Covid3MC_quicks_labels.npy\")\n",
    "\n",
    "runtime = [sigificant_digit(c, 2) for c in runtime]\n",
    "\n",
    "pca = PCA(n_components=2)\n",
    "Covid3MC = loadData('Covid3MC')\n",
    "X, y = Covid3MC\n",
    "np.random.seed(42)\n",
    "sampling = np.random.choice(np.arange(X.shape[0]), int(X.shape[0]*0.1), replace=False)\n",
    "X, y = np.array(X), np.array(y)\n",
    "X_sample, y_sample = X[sampling], y[sampling]\n",
    "X = pca.fit_transform(X)\n",
    "X_sample = pca.fit_transform(X_sample)\n",
    "\n",
    "fig, axs = plt.subplots(2, 2, figsize=(10,7))\n",
    "\n",
    "axs[0, 0].scatter(X[sampling, 0], X[sampling, 1], s=0.1, c=labels[0][sampling], cmap='rainbow', label='ARI={0:.2f}\\nAMI={1:.2f}'.format(lari[0], lami[0]))\n",
    "axs[0, 0].set_title(algorithms[0])\n",
    "axs[0, 0].legend(loc='upper right', fancybox=True, framealpha=0.1)\n",
    "axs[0, 1].scatter(X[sampling, 0], X[sampling, 1], s=0.1, c=labels[1][sampling], cmap='rainbow', label='ARI={0:.2f}\\nAMI={1:.2f}'.format(lari[1], lami[1]))\n",
    "axs[0, 1].set_title(algorithms[1])\n",
    "axs[0, 1].legend(loc='upper right', fancybox=True, framealpha=0.1)\n",
    "axs[1, 0].scatter(X_sample[:, 0], X_sample[:, 1], s=0.1, c=labels_quicks, cmap='rainbow', label='ARI={0:.2f}\\nAMI={1:.2f}'.format(lari[2], lami[2]))\n",
    "axs[1, 0].set_title(algorithms[2])\n",
    "axs[1, 0].legend(loc='upper right', fancybox=True, framealpha=0.1)\n",
    "axs[1, 1].scatter(X[sampling, 0], X[sampling, 1], s=0.1, c=labels[2][sampling], cmap='rainbow', label='ARI={0:.2f}\\nAMI={1:.2f}'.format(lari[3], lami[3]))\n",
    "axs[1, 1].set_title(algorithms[3])\n",
    "axs[1, 1].legend(loc='upper right', fancybox=True, framealpha=0.1)\n",
    "plt.savefig('result/exp1/scatter_Covid3MC.png', bbox_inches='tight')\n",
    "plt.show()\n",
    "\n",
    "color = ['lightblue', 'tomato', 'yellowgreen', 'pink']\n",
    "plt.figure(figsize=(5, 7))\n",
    "plt.bar(algorithms, runtime, width=0.6, color=color)\n",
    "plt.yscale('log')\n",
    "plt.ylabel('runtime in seconds', fontsize=15)\n",
    "# add Bar labels\n",
    "for c in plt.gca().containers:\n",
    "    plt.gca().bar_label(c)\n",
    "    \n",
    "plt.savefig('result/exp1/bar_Covid3MC.png', bbox_inches='tight')\n",
    "plt.show()"
   ]
  },
  {
   "cell_type": "code",
   "execution_count": null,
   "id": "2be4ce1f-eb94-4234-ae51-8e282bfa7859",
   "metadata": {},
   "outputs": [],
   "source": []
  },
  {
   "cell_type": "code",
   "execution_count": null,
   "id": "1ca5410f-43bb-43d7-b731-5c067d43633b",
   "metadata": {},
   "outputs": [],
   "source": []
  }
 ],
 "metadata": {
  "kernelspec": {
   "display_name": "Python 3 (ipykernel)",
   "language": "python",
   "name": "python3"
  },
  "language_info": {
   "codemirror_mode": {
    "name": "ipython",
    "version": 3
   },
   "file_extension": ".py",
   "mimetype": "text/x-python",
   "name": "python",
   "nbconvert_exporter": "python",
   "pygments_lexer": "ipython3",
   "version": "3.11.2"
  }
 },
 "nbformat": 4,
 "nbformat_minor": 5
}
