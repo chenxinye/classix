{
 "cells": [
  {
   "cell_type": "markdown",
   "id": "568969b4-1473-4154-9592-dfcca8065b36",
   "metadata": {},
   "source": [
    "We need to compare k-means, hdbscan, quickshift, and classix"
   ]
  },
  {
   "cell_type": "markdown",
   "id": "72bd9584-6ae4-45da-ad8c-c8fada8f965f",
   "metadata": {},
   "source": [
    "## Gaussian blobs  "
   ]
  },
  {
   "cell_type": "code",
   "execution_count": 1,
   "id": "42676430-c30c-47a8-ad36-e78916dad476",
   "metadata": {},
   "outputs": [],
   "source": [
    "import hdbscan\n",
    "from sklearn.cluster import KMeans\n",
    "from quickshift.QuickshiftPP import *\n",
    "from threadpoolctl import threadpool_limits"
   ]
  },
  {
   "cell_type": "code",
   "execution_count": 2,
   "id": "c1f773d3-43e6-4388-9a04-eca87cb0bd93",
   "metadata": {},
   "outputs": [
    {
     "name": "stdout",
     "output_type": "stream",
     "text": [
      "1.0.5\n"
     ]
    }
   ],
   "source": [
    "from sklearn.datasets import make_blobs\n",
    "import matplotlib.pyplot as plt\n",
    "from classix import CLASSIX, loadData\n",
    "import classix\n",
    "from time import time\n",
    "import cv2\n",
    "import os\n",
    "\n",
    "\n",
    "import pandas as pd\n",
    "import numpy as np\n",
    "\n",
    "print(classix.__version__)\n",
    "\n",
    "from HiPart.clustering import DePDDP\n",
    "from sklearn.metrics import adjusted_rand_score as ari\n",
    "from sklearn.metrics import adjusted_mutual_info_score as ami\n",
    "\n",
    "import collections\n"
   ]
  },
  {
   "cell_type": "code",
   "execution_count": 3,
   "id": "6ec39496-64b5-4643-b1e5-fe40a00d30b5",
   "metadata": {},
   "outputs": [
    {
     "name": "stdout",
     "output_type": "stream",
     "text": [
      "CLASSIX uses time: 0.6888551712036133\n",
      "ARI: 1.0\n",
      "AMI: 1.0\n",
      "HDBSCAN uses time: 190.40062499046326\n",
      "ARI: 0.9967470647150922\n",
      "AMI: 0.9936118389400329\n",
      "Quickshift uses time: 43.935232162475586\n",
      "ARI: 1.0\n",
      "AMI: 1.0\n"
     ]
    },
    {
     "name": "stderr",
     "output_type": "stream",
     "text": [
      "/usr/lib/python3/dist-packages/sklearn/cluster/_kmeans.py:870: FutureWarning: The default value of `n_init` will change from 10 to 'auto' in 1.4. Set the value of `n_init` explicitly to suppress the warning\n",
      "  warnings.warn(\n"
     ]
    },
    {
     "name": "stdout",
     "output_type": "stream",
     "text": [
      "kmeans uses time: 2.293975353240967\n",
      "ARI: 1.0\n",
      "AMI: 1.0\n"
     ]
    }
   ],
   "source": [
    "fdim=5\n",
    "size=int(2*1e5)\n",
    "clusterNum = 5\n",
    "\n",
    "lari = list()\n",
    "lami = list()\n",
    "runtime = list()\n",
    "X, y = make_blobs(n_samples=size, centers=clusterNum, n_features=fdim,\n",
    "                  random_state=42)\n",
    "min_cluster = min(collections.Counter(y).items(), key=lambda x: x[1])[1]\n",
    "\n",
    "with threadpool_limits(limits=1, user_api='blas'):\n",
    "    clx = CLASSIX(radius=0.17, verbose=0)\n",
    "    st = time()\n",
    "    clx.fit(X)\n",
    "    et = time()\n",
    "    print(\"CLASSIX uses time:\", et - st)\n",
    "    print(\"ARI:\", ari(clx.labels_, y))\n",
    "    print(\"AMI:\", ami(clx.labels_, y))\n",
    "    lari.append(ari(clx.labels_, y))\n",
    "    lami.append(ami(clx.labels_, y))\n",
    "    runtime.append(et - st)\n",
    "\n",
    "    _hdbscan = hdbscan.HDBSCAN(min_cluster_size=5000, algorithm='best')\n",
    "    st = time()\n",
    "    _hdbscan.fit(X)\n",
    "    et = time()\n",
    "    print(\"HDBSCAN uses time:\", et - st)\n",
    "    print(\"ARI:\", ari(_hdbscan.labels_, y))\n",
    "    print(\"AMI:\", ami(_hdbscan.labels_, y))\n",
    "    lari.append(ari(_hdbscan.labels_, y))\n",
    "    lami.append(ami(_hdbscan.labels_, y))\n",
    "    runtime.append(et - st)\n",
    "\n",
    "    quicks = QuickshiftPP(k=80, beta=0.9)\n",
    "    st = time()\n",
    "    quicks.fit(X.copy(order='C'))\n",
    "    et = time()\n",
    "    print(\"Quickshift uses time:\", et - st)\n",
    "    print(\"ARI:\", ari(quicks.memberships, y))\n",
    "    print(\"AMI:\", ami(quicks.memberships, y))\n",
    "    lari.append(ari(quicks.memberships, y))\n",
    "    lami.append(ami(quicks.memberships, y))\n",
    "    runtime.append(et - st)\n",
    "\n",
    "    kmeans = KMeans(n_clusters=clusterNum, init='k-means++', random_state=1)\n",
    "    st = time()\n",
    "    kmeans.fit(X)\n",
    "    et = time()\n",
    "    print(\"kmeans uses time:\", et - st)\n",
    "    print(\"ARI:\", ari(kmeans.labels_, y))\n",
    "    print(\"AMI:\", ami(kmeans.labels_, y))\n",
    "    lari.append(ari(kmeans.labels_, y))\n",
    "    lami.append(ami(kmeans.labels_, y))\n",
    "    runtime.append(et - st)\n",
    "\n",
    "    # depddp_class = DePDDP(max_clusters_number=clusterNum).fit_predict(X)\n",
    "    # print(\"DePDDP uses time:\", et - st)\n",
    "    # print(\"ARI:\", ari(depddp_class, y))\n",
    "    # print(\"AMI:\", ami(depddp_class, y))\n",
    "    # lari.append(ari(depddp_class, y))\n",
    "    # lami.append(ami(depddp_class, y))\n",
    "    # runtime.append(et - st)\n",
    "\n",
    "lari = np.asarray(lari)\n",
    "lami = np.asarray(lami)\n",
    "runtime = np.asarray(runtime)\n",
    "\n",
    "labels_ = [clx.labels_, _hdbscan.labels_, quicks.memberships, kmeans.labels_]# , depddp_class]\n",
    "np.save(\"result/exp1/blobs_ari.npy\", lari)\n",
    "np.save(\"result/exp1/blobs_ami.npy\", lami)\n",
    "np.save(\"result/exp1/blobs_runtime.npy\", runtime)\n",
    "np.save(\"result/exp1/blobs_labels.npy\", labels_)"
   ]
  },
  {
   "cell_type": "raw",
   "id": "c9200b6a-7685-4acd-b315-8dc2df0c81a7",
   "metadata": {},
   "source": [
    "import math\n",
    "from sklearn.decomposition import PCA\n",
    "import matplotlib.pyplot as plt\n",
    "\n",
    "def sigificant_digit(number, digits=4):\n",
    "    return round(number, digits - int(math.floor(math.log10(abs(number)))) - 1)\n",
    "algorithms = ['CLASSIX', 'HDBSCAN', 'Quickshift++', 'k-means++']\n",
    "\n",
    "lari = np.load(\"result/exp1/blobs_ari.npy\")\n",
    "lami = np.load(\"result/exp1/blobs_ami.npy\")\n",
    "labels = np.load(\"result/exp1/blobs_labels.npy\")\n",
    "runtime = np.load(\"result/exp1/blobs_runtime.npy\")\n",
    "runtime = [sigificant_digit(c, 2) for c in runtime]\n",
    "\n",
    "pca = PCA(n_components=2)\n",
    "fdim=5\n",
    "size=int(2*1e5)\n",
    "clusterNum = 5\n",
    "\n",
    "X, y = make_blobs(n_samples=size, centers=clusterNum, n_features=fdim, random_state=42)\n",
    "\n",
    "np.random.seed(42)\n",
    "X = pca.fit_transform(X)\n",
    "\n",
    "fig, axs = plt.subplots(2, 2, figsize=(10,7))\n",
    "# fig.suptitle('Gassian blobs')\n",
    "\n",
    "axs[0, 0].scatter(X[:, 0], X[:, 1], s=0.1, c=labels[0], cmap='rainbow', label='ARI={0:.2f}\\nAMI={1:.2f}'.format(lari[0], lami[0]))\n",
    "axs[0, 0].set_title(algorithms[0])\n",
    "axs[0, 0].legend(loc='upper right', fancybox=True, framealpha=0.1)\n",
    "axs[0, 1].scatter(X[:, 0], X[:, 1], s=0.1, c=labels[1], cmap='rainbow', label='ARI={0:.2f}\\nAMI={1:.2f}'.format(lari[1], lami[1]))\n",
    "axs[0, 1].set_title(algorithms[1])\n",
    "axs[0, 1].legend(loc='upper right', fancybox=True, framealpha=0.1)\n",
    "axs[1, 0].scatter(X[:, 0], X[:, 1], s=0.1, c=labels[2], cmap='rainbow', label='ARI={0:.2f}\\nAMI={1:.2f}'.format(lari[2], lami[2]))\n",
    "axs[1, 0].set_title(algorithms[2])\n",
    "axs[1, 0].legend(loc='upper right', fancybox=True, framealpha=0.1)\n",
    "axs[1, 1].scatter(X[:, 0], X[:, 1], s=0.1, c=labels[3], cmap='rainbow', label='ARI={0:.2f}\\nAMI={1:.2f}'.format(lari[3], lami[3]))\n",
    "axs[1, 1].set_title(algorithms[3])\n",
    "axs[1, 1].legend(loc='upper right', fancybox=True, framealpha=0.1)\n",
    "plt.savefig('result/exp1/scatter_blobs.png', bbox_inches='tight')\n",
    "plt.show()\n",
    "\n",
    "color = ['lightblue', 'tomato', 'yellowgreen', 'pink']\n",
    "plt.figure(figsize=(5, 7))\n",
    "plt.bar(algorithms, runtime, width=0.6, color=color)\n",
    "plt.yscale('log')\n",
    "plt.ylabel('runtime in seconds', fontsize=15)\n",
    "# add Bar labels\n",
    "for c in plt.gca().containers:\n",
    "    plt.gca().bar_label(c)\n",
    "    \n",
    "plt.savefig('result/exp1/bar_blobs.png', bbox_inches='tight')\n",
    "plt.show()"
   ]
  },
  {
   "cell_type": "code",
   "execution_count": null,
   "id": "2be4ce1f-eb94-4234-ae51-8e282bfa7859",
   "metadata": {},
   "outputs": [],
   "source": []
  },
  {
   "cell_type": "code",
   "execution_count": null,
   "id": "1ca5410f-43bb-43d7-b731-5c067d43633b",
   "metadata": {},
   "outputs": [],
   "source": []
  }
 ],
 "metadata": {
  "kernelspec": {
   "display_name": "Python 3 (ipykernel)",
   "language": "python",
   "name": "python3"
  },
  "language_info": {
   "codemirror_mode": {
    "name": "ipython",
    "version": 3
   },
   "file_extension": ".py",
   "mimetype": "text/x-python",
   "name": "python",
   "nbconvert_exporter": "python",
   "pygments_lexer": "ipython3",
   "version": "3.11.2"
  }
 },
 "nbformat": 4,
 "nbformat_minor": 5
}
